{
 "cells": [
  {
   "cell_type": "code",
   "execution_count": null,
   "metadata": {
    "colab": {
     "base_uri": "https://localhost:8080/"
    },
    "executionInfo": {
     "elapsed": 11,
     "status": "ok",
     "timestamp": 1695702908958,
     "user": {
      "displayName": "윤재현 (Acahti)",
      "userId": "14788659600835622523"
     },
     "user_tz": -540
    },
    "id": "koeZnJa5xJAF",
    "outputId": "937b5178-af2b-4f4a-89b1-008268204346"
   },
   "outputs": [],
   "source": [
    "print('test')"
   ]
  },
  {
   "cell_type": "code",
   "execution_count": null,
   "metadata": {
    "colab": {
     "base_uri": "https://localhost:8080/"
    },
    "executionInfo": {
     "elapsed": 15,
     "status": "ok",
     "timestamp": 1695703969529,
     "user": {
      "displayName": "윤재현 (Acahti)",
      "userId": "14788659600835622523"
     },
     "user_tz": -540
    },
    "id": "sUco8yg41OFy",
    "outputId": "3c1d5a3f-d22f-4f27-890d-5ded6d68dbf9"
   },
   "outputs": [],
   "source": [
    "for i in range(10):\n",
    "  print(i)"
   ]
  },
  {
   "cell_type": "code",
   "execution_count": null,
   "metadata": {
    "colab": {
     "base_uri": "https://localhost:8080/"
    },
    "executionInfo": {
     "elapsed": 533,
     "status": "ok",
     "timestamp": 1695704676698,
     "user": {
      "displayName": "윤재현 (Acahti)",
      "userId": "14788659600835622523"
     },
     "user_tz": -540
    },
    "id": "ZkWzcaPf34JS",
    "outputId": "028dea69-e308-4b14-9bdd-93fdfa2c59a4"
   },
   "outputs": [],
   "source": [
    "for i in range(5):\n",
    "  print('집으로!  가자!')"
   ]
  }
 ],
 "metadata": {
  "colab": {
   "authorship_tag": "ABX9TyNJqXdsQze1oGa4Og0LGvB9",
   "provenance": []
  },
  "kernelspec": {
   "display_name": "Python 3",
   "name": "python3"
  },
  "language_info": {
   "name": "python"
  }
 },
 "nbformat": 4,
 "nbformat_minor": 0
}
