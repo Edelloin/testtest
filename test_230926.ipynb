{
 "cells": [
  {
   "cell_type": "code",
   "execution_count": null,
   "metadata": {
    "id": "koeZnJa5xJAF"
   },
   "outputs": [],
   "source": [
    "print('test')"
   ]
  },
  {
   "cell_type": "code",
   "execution_count": null,
   "metadata": {
    "id": "sUco8yg41OFy"
   },
   "outputs": [],
   "source": [
    "for i in range(10):\n",
    "  print(i)"
   ]
  },
  {
   "cell_type": "code",
   "execution_count": null,
   "metadata": {
    "id": "ZkWzcaPf34JS"
   },
   "outputs": [],
   "source": [
    "for i in range(5):\n",
    "  print('집으로!  가자!')"
   ]
  },
  {
   "cell_type": "code",
   "execution_count": null,
   "metadata": {
    "id": "6CQN6kFA5jlg"
   },
   "outputs": [],
   "source": [
    "for i in range(5):\n",
    "  print('하하하하')"
   ]
  },
  {
   "cell_type": "code",
   "execution_count": null,
   "metadata": {
    "colab": {
     "base_uri": "https://localhost:8080/"
    },
    "executionInfo": {
     "elapsed": 414,
     "status": "ok",
     "timestamp": 1695705368090,
     "user": {
      "displayName": "윤재현 (Acahti)",
      "userId": "14788659600835622523"
     },
     "user_tz": -540
    },
    "id": "srCGt34b6e5f",
    "outputId": "157e5bfc-69b6-4b7c-90a3-b9cef03b9727"
   },
   "outputs": [],
   "source": [
    "for i in range(5):\n",
    "  print('히히히히')"
   ]
  }
 ],
 "metadata": {
  "colab": {
   "authorship_tag": "ABX9TyNLHZ0AG/h/xHg2iptM/37S",
   "provenance": []
  },
  "kernelspec": {
   "display_name": "Python 3",
   "name": "python3"
  },
  "language_info": {
   "name": "python"
  }
 },
 "nbformat": 4,
 "nbformat_minor": 0
}
